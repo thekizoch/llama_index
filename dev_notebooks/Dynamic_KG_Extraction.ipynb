{
 "cells": [
  {
   "cell_type": "markdown",
   "metadata": {},
   "source": [
    "# Comparing LLM Path Extractors for Knowledge Graph Construction\n",
    "\n",
    "In this notebook, we'll compare three different LLM Path Extractors from llama_index:\n",
    "1. SimpleLLMPathExtractor\n",
    "2. SchemaLLMPathExtractor\n",
    "3. DynamicLLMPathExtractor (New)\n",
    "\n",
    "We'll use a Wikipedia page as our test data and visualize the resulting knowledge graphs using Pyvis."
   ]
  },
  {
   "cell_type": "markdown",
   "metadata": {},
   "source": [
    "## Setup and Imports"
   ]
  },
  {
   "cell_type": "code",
   "execution_count": null,
   "metadata": {},
   "outputs": [],
   "source": [
    "# !pip install llama_index pyvis wikipedia"
   ]
  },
  {
   "cell_type": "code",
   "execution_count": null,
   "metadata": {},
   "outputs": [],
   "source": [
    "from llama_index.core import Document, PropertyGraphIndex\n",
    "from llama_index.core.indices.property_graph import (\n",
    "    SimpleLLMPathExtractor,\n",
    "    SchemaLLMPathExtractor,\n",
    "    DynamicLLMPathExtractor,\n",
    ")\n",
    "from llama_index.llms.openai import OpenAI\n",
    "from llama_index.core import Settings\n",
    "\n",
    "import wikipedia\n",
    "\n",
    "import os"
   ]
  },
  {
   "cell_type": "code",
   "execution_count": null,
   "metadata": {},
   "outputs": [],
   "source": [
    "import nest_asyncio\n",
    "\n",
    "nest_asyncio.apply()"
   ]
  },
  {
   "cell_type": "markdown",
   "metadata": {},
   "source": [
    "## Set up LLM Backend"
   ]
  },
  {
   "cell_type": "code",
   "execution_count": null,
   "metadata": {},
   "outputs": [],
   "source": [
    "os.environ[\"OPENAI_API_KEY\"] = \"sk-...\"\n",
    "\n",
    "# Set up global configurations\n",
    "llm = OpenAI(temperature=0.0, model=\"gpt-3.5-turbo\")\n",
    "\n",
    "Settings.llm = llm\n",
    "Settings.chunk_size = 2048\n",
    "Settings.chunk_overlap = 20"
   ]
  },
  {
   "cell_type": "markdown",
   "metadata": {},
   "source": [
    "## Fetch Some Raw Text from Wikipedia"
   ]
  },
  {
   "cell_type": "code",
   "execution_count": null,
   "metadata": {},
   "outputs": [],
   "source": [
    "def get_wikipedia_content(title):\n",
    "    try:\n",
    "        page = wikipedia.page(title)\n",
    "        return page.content\n",
    "    except wikipedia.exceptions.DisambiguationError as e:\n",
    "        print(f\"Disambiguation page. Options: {e.options}\")\n",
    "    except wikipedia.exceptions.PageError:\n",
    "        print(f\"Page '{title}' does not exist.\")\n",
    "    return None"
   ]
  },
  {
   "cell_type": "code",
   "execution_count": null,
   "metadata": {},
   "outputs": [
    {
     "name": "stdout",
     "output_type": "stream",
     "text": [
      "Fetched content for 'Barack Obama' (length: 84362 characters)\n"
     ]
    }
   ],
   "source": [
    "wiki_title = \"Barack Obama\"\n",
    "content = get_wikipedia_content(wiki_title)\n",
    "\n",
    "if content:\n",
    "    document = Document(text=content, metadata={\"title\": wiki_title})\n",
    "    print(f\"Fetched content for '{wiki_title}' (length: {len(content)} characters)\")\n",
    "else:\n",
    "    print(\"Failed to fetch Wikipedia content.\")"
   ]
  },
  {
   "cell_type": "markdown",
   "metadata": {},
   "source": [
    "## 1. SimpleLLMPathExtractor"
   ]
  },
  {
   "cell_type": "code",
   "execution_count": null,
   "metadata": {},
   "outputs": [
    {
     "name": "stderr",
     "output_type": "stream",
     "text": [
      "Parsing nodes: 100%|██████████| 1/1 [00:00<00:00, 32.71it/s]\n",
      "Extracting paths from text: 100%|██████████| 11/11 [00:09<00:00,  1.12it/s]\n"
     ]
    },
    {
     "data": {
      "text/plain": [
       "[(EntityNode(label='entity', embedding=None, properties={'title': 'Barack Obama', 'triplet_source_id': 'db15556a-d04b-480f-8e73-01b0d25ff950'}, name='Obama'),\n",
       "  Relation(label='Selected as', source_id='Obama', target_id='Editor of harvard law review', properties={'title': 'Barack Obama', 'triplet_source_id': '9adfab03-5b81-4dfe-b655-06173e69ddf1'}),\n",
       "  EntityNode(label='entity', embedding=None, properties={'title': 'Barack Obama', 'triplet_source_id': '9adfab03-5b81-4dfe-b655-06173e69ddf1'}, name='Editor of harvard law review')),\n",
       " (EntityNode(label='entity', embedding=None, properties={'title': 'Barack Obama', 'triplet_source_id': 'db15556a-d04b-480f-8e73-01b0d25ff950'}, name='Obama'),\n",
       "  Relation(label='Visited', source_id='Obama', target_id='White house', properties={'title': 'Barack Obama', 'triplet_source_id': 'b31c90aa-5fd3-4f90-bbfa-df187d9936ca'}),\n",
       "  EntityNode(label='entity', embedding=None, properties={'title': 'Barack Obama', 'triplet_source_id': 'b31c90aa-5fd3-4f90-bbfa-df187d9936ca'}, name='White house')),\n",
       " (EntityNode(label='entity', embedding=None, properties={'title': 'Barack Obama', 'triplet_source_id': 'db15556a-d04b-480f-8e73-01b0d25ff950'}, name='Obama'),\n",
       "  Relation(label='Endorsed', source_id='Obama', target_id='Biden', properties={'title': 'Barack Obama', 'triplet_source_id': 'b31c90aa-5fd3-4f90-bbfa-df187d9936ca'}),\n",
       "  EntityNode(label='entity', embedding=None, properties={'title': 'Barack Obama', 'triplet_source_id': 'b31c90aa-5fd3-4f90-bbfa-df187d9936ca'}, name='Biden')),\n",
       " (EntityNode(label='entity', embedding=None, properties={'title': 'Barack Obama', 'triplet_source_id': 'db15556a-d04b-480f-8e73-01b0d25ff950'}, name='Obama'),\n",
       "  Relation(label='Received', source_id='Obama', target_id='John f. kennedy profile in courage award in 2017', properties={'title': 'Barack Obama', 'triplet_source_id': 'db15556a-d04b-480f-8e73-01b0d25ff950'}),\n",
       "  EntityNode(label='entity', embedding=None, properties={'title': 'Barack Obama', 'triplet_source_id': 'db15556a-d04b-480f-8e73-01b0d25ff950'}, name='John f. kennedy profile in courage award in 2017')),\n",
       " (EntityNode(label='entity', embedding=None, properties={'title': 'Barack Obama', 'triplet_source_id': 'db15556a-d04b-480f-8e73-01b0d25ff950'}, name='Obama'),\n",
       "  Relation(label='Lifted', source_id='Obama', target_id='Ban on travel', properties={'title': 'Barack Obama', 'triplet_source_id': '844ddf4b-42c6-4808-b001-ff58cba149fd'}),\n",
       "  EntityNode(label='entity', embedding=None, properties={'title': 'Barack Obama', 'triplet_source_id': '844ddf4b-42c6-4808-b001-ff58cba149fd'}, name='Ban on travel'))]"
      ]
     },
     "execution_count": null,
     "metadata": {},
     "output_type": "execute_result"
    }
   ],
   "source": [
    "kg_extractor = SimpleLLMPathExtractor(llm=llm, max_paths_per_chunk=20, num_workers=4)\n",
    "\n",
    "simple_index = PropertyGraphIndex.from_documents(\n",
    "    [document],\n",
    "    llm=llm,\n",
    "    embed_kg_nodes=False,\n",
    "    kg_extractors=[kg_extractor],\n",
    "    show_progress=True,\n",
    ")\n",
    "\n",
    "simple_index.property_graph_store.save_networkx_graph(name=\"./SimpleGraph.html\")\n",
    "simple_index.property_graph_store.get_triplets(entity_names=[\"Barack Obama\", \"Obama\"])[\n",
    "    :5\n",
    "]"
   ]
  },
  {
   "cell_type": "markdown",
   "metadata": {},
   "source": [
    "## 2. DynamicLLMPathExtractor"
   ]
  },
  {
   "cell_type": "markdown",
   "metadata": {},
   "source": [
    "### Without intial ontology :\n",
    "Here, we let the LLM define the ontology on the fly, giving it full freedom to label the nodes as it best sees fit."
   ]
  },
  {
   "cell_type": "code",
   "execution_count": null,
   "metadata": {},
   "outputs": [
    {
     "name": "stderr",
     "output_type": "stream",
     "text": [
      "Parsing nodes: 100%|██████████| 1/1 [00:00<00:00, 49.17it/s]\n",
      "Extracting and inferring knowledge graph from text: 100%|██████████| 11/11 [00:40<00:00,  3.69s/it]\n"
     ]
    },
    {
     "data": {
      "text/plain": [
       "[(EntityNode(label='PERSON', embedding=None, properties={'title': 'Barack Obama', 'triplet_source_id': '29cd5c21-f3d6-4ee4-96d8-e90f5b3c6568'}, name='Barack Obama'),\n",
       "  Relation(label='INCLUDES', source_id='Barack Obama', target_id='ACA', properties={'provisions': 'health-related', 'title': 'Barack Obama', 'triplet_source_id': '7476d205-e40d-4bed-9c5d-acb63c256121'}),\n",
       "  EntityNode(label='POLICY', embedding=None, properties={'provisions': 'health-related', 'title': 'Barack Obama', 'triplet_source_id': '7476d205-e40d-4bed-9c5d-acb63c256121'}, name='ACA')),\n",
       " (EntityNode(label='PERSON', embedding=None, properties={'title': 'Barack Obama', 'triplet_source_id': '29cd5c21-f3d6-4ee4-96d8-e90f5b3c6568'}, name='Barack Obama'),\n",
       "  Relation(label='SIGNED', source_id='Barack Obama', target_id='Budget Control Act of 2011', properties={'date': 'August 2, 2011', 'title': 'Barack Obama', 'triplet_source_id': '54ddec15-b4ee-45b2-ad06-06e7eda9f356'}),\n",
       "  EntityNode(label='LEGISLATION', embedding=None, properties={'title': 'Barack Obama', 'triplet_source_id': '54ddec15-b4ee-45b2-ad06-06e7eda9f356'}, name='Budget Control Act of 2011')),\n",
       " (EntityNode(label='PERSON', embedding=None, properties={'title': 'Barack Obama', 'triplet_source_id': '29cd5c21-f3d6-4ee4-96d8-e90f5b3c6568'}, name='Barack Obama'),\n",
       "  Relation(label='SIGNED', source_id='Barack Obama', target_id='', properties={'agreement': 'Major International Climate Agreement', 'title': 'Barack Obama', 'triplet_source_id': 'e49ea6e3-e471-4d6b-9667-b1200359e00e'}),\n",
       "  EntityNode(label='', embedding=None, properties={'title': 'Barack Obama', 'triplet_source_id': 'e49ea6e3-e471-4d6b-9667-b1200359e00e'}, name='')),\n",
       " (EntityNode(label='PERSON', embedding=None, properties={'position': 'President', 'title': 'Barack Obama', 'triplet_source_id': '14035f25-6a46-4616-803c-65ba2e71d396'}, name='Obama'),\n",
       "  Relation(label='REPLACED', source_id='Obama', target_id='General David D. McKiernan', properties={'action': 'replaced military commander', 'title': 'Barack Obama', 'triplet_source_id': 'fee653cb-9ade-4d14-96ed-115e9365149c'}),\n",
       "  EntityNode(label='PERSON', embedding=None, properties={'title': 'Barack Obama', 'triplet_source_id': 'fee653cb-9ade-4d14-96ed-115e9365149c'}, name='General David D. McKiernan')),\n",
       " (EntityNode(label='PERSON', embedding=None, properties={'title': 'Barack Obama', 'triplet_source_id': '29cd5c21-f3d6-4ee4-96d8-e90f5b3c6568'}, name='Barack Obama'),\n",
       "  Relation(label='PARTNERED_WITH', source_id='Barack Obama', target_id='One America Appeal', properties={'title': 'Barack Obama', 'triplet_source_id': '29cd5c21-f3d6-4ee4-96d8-e90f5b3c6568'}),\n",
       "  EntityNode(label='ORGANIZATION', embedding=None, properties={'cause': 'helping victims of hurricanes', 'title': 'Barack Obama', 'triplet_source_id': '29cd5c21-f3d6-4ee4-96d8-e90f5b3c6568'}, name='One America Appeal'))]"
      ]
     },
     "execution_count": null,
     "metadata": {},
     "output_type": "execute_result"
    }
   ],
   "source": [
    "kg_extractor = DynamicLLMPathExtractor(\n",
    "    llm=llm,\n",
    "    max_triplets_per_chunk=20,\n",
    "    num_workers=4,\n",
    "    # Let the LLM infer entities and their labels (types) on the fly\n",
    "    allowed_entity_types=None,\n",
    "    # Let the LLM infer relationships on the fly\n",
    "    allowed_relation_types=None,\n",
    "    # LLM will generate any entity properties, set `None` to skip property generation (will be faster without)\n",
    "    allowed_relation_props=[],\n",
    "    # LLM will generate any relation properties, set `None` to skip property generation (will be faster without)\n",
    "    allowed_entity_props=[],\n",
    ")\n",
    "\n",
    "dynamic_index = PropertyGraphIndex.from_documents(\n",
    "    [document],\n",
    "    llm=llm,\n",
    "    embed_kg_nodes=False,\n",
    "    kg_extractors=[kg_extractor],\n",
    "    show_progress=True,\n",
    ")\n",
    "\n",
    "dynamic_index.property_graph_store.save_networkx_graph(name=\"./DynamicGraph.html\")\n",
    "\n",
    "dynamic_index.property_graph_store.get_triplets(entity_names=[\"Barack Obama\", \"Obama\"])[\n",
    "    :5\n",
    "]"
   ]
  },
  {
   "cell_type": "markdown",
   "metadata": {},
   "source": [
    "### With initial ontology for guided KG extraction : \n",
    "Here, we have partial knowledge of what we want to detect, we know the article is about Barack Obama, so we define some entities and relations that could help guide the LLM in the labeling process as it detects the entities and relations. This doesn't guarantee that the LLM will use them, it simply guides it and gives it some ideas. It will still be up to the LLM to decide whether it uses the entities and relations we provide or not. "
   ]
  },
  {
   "cell_type": "code",
   "execution_count": null,
   "metadata": {},
   "outputs": [
    {
     "name": "stderr",
     "output_type": "stream",
     "text": [
      "Parsing nodes: 100%|██████████| 1/1 [00:00<00:00, 45.20it/s]\n",
      "Extracting and inferring knowledge graph from text: 100%|██████████| 11/11 [00:45<00:00,  4.09s/it]\n"
     ]
    },
    {
     "data": {
      "text/plain": [
       "[(EntityNode(label='POLITICIAN', embedding=None, properties={'description': '44th President of the United States', 'title': 'Barack Obama', 'triplet_source_id': '531221eb-d0b0-449c-acc7-f5696ceaf58c'}, name='Barack Obama'),\n",
       "  Relation(label='IMPLEMENTS', source_id='Barack Obama', target_id='taxes on insurance companies that offer expensive plans', properties={'title': 'Barack Obama', 'triplet_source_id': '914a08ce-7915-44cc-9a52-d661370d5a73'}),\n",
       "  EntityNode(label='TAX', embedding=None, properties={'title': 'Barack Obama', 'triplet_source_id': '914a08ce-7915-44cc-9a52-d661370d5a73'}, name='taxes on insurance companies that offer expensive plans')),\n",
       " (EntityNode(label='POLITICIAN', embedding=None, properties={'description': '44th President of the United States', 'title': 'Barack Obama', 'triplet_source_id': '531221eb-d0b0-449c-acc7-f5696ceaf58c'}, name='Barack Obama'),\n",
       "  Relation(label='SIGNED', source_id='Barack Obama', target_id='Budget Control Act of 2011', properties={'date': 'August 2, 2011', 'title': 'Barack Obama', 'triplet_source_id': 'a616f3a9-b170-4b9b-a81b-dbf07aaa45e6'}),\n",
       "  EntityNode(label='LEGISLATION', embedding=None, properties={'title': 'Barack Obama', 'triplet_source_id': 'a616f3a9-b170-4b9b-a81b-dbf07aaa45e6'}, name='Budget Control Act of 2011')),\n",
       " (EntityNode(label='POLITICIAN', embedding=None, properties={'description': '44th President of the United States', 'title': 'Barack Obama', 'triplet_source_id': 'b6c104f2-fe05-4698-84a6-7140ffe88925'}, name='Obama'),\n",
       "  Relation(label='REPLACED', source_id='Obama', target_id='General David D. McKiernan', properties={'description': 'replaced the military commander in Afghanistan', 'title': 'Barack Obama', 'triplet_source_id': '8d021037-c997-46ae-ba7e-9d30d45f8251'}),\n",
       "  EntityNode(label='MILITARY_COMMANDER', embedding=None, properties={'title': 'Barack Obama', 'triplet_source_id': '8d021037-c997-46ae-ba7e-9d30d45f8251'}, name='General David D. McKiernan')),\n",
       " (EntityNode(label='POLITICIAN', embedding=None, properties={'description': '44th President of the United States', 'title': 'Barack Obama', 'triplet_source_id': '531221eb-d0b0-449c-acc7-f5696ceaf58c'}, name='Barack Obama'),\n",
       "  Relation(label='ENROLLED_IN', source_id='Barack Obama', target_id='Harvard Law School', properties={'title': 'Barack Obama', 'triplet_source_id': '4e8e8920-b5ae-4648-bd56-327b734bfd97'}),\n",
       "  EntityNode(label='UNIVERSITY', embedding=None, properties={'location': 'Somerville, Massachusetts', 'degree': 'Juris Doctor magna cum laude', 'title': 'Barack Obama', 'triplet_source_id': 'a4fd2a84-303d-4f0c-baea-2bb1bdf971f6'}, name='Harvard Law School')),\n",
       " (EntityNode(label='POLITICIAN', embedding=None, properties={'description': '44th President of the United States', 'title': 'Barack Obama', 'triplet_source_id': '531221eb-d0b0-449c-acc7-f5696ceaf58c'}, name='Barack Obama'),\n",
       "  Relation(label='PROPOSES', source_id='Barack Obama', target_id='government insurance plan', properties={'title': 'Barack Obama', 'triplet_source_id': '914a08ce-7915-44cc-9a52-d661370d5a73'}),\n",
       "  EntityNode(label='INSURANCE_PLAN', embedding=None, properties={'competition': 'corporate insurance sector', 'costs': 'lowered', 'quality': 'improved', 'title': 'Barack Obama', 'triplet_source_id': '914a08ce-7915-44cc-9a52-d661370d5a73'}, name='government insurance plan'))]"
      ]
     },
     "execution_count": null,
     "metadata": {},
     "output_type": "execute_result"
    }
   ],
   "source": [
    "kg_extractor = DynamicLLMPathExtractor(\n",
    "    llm=llm,\n",
    "    max_triplets_per_chunk=20,\n",
    "    num_workers=4,\n",
    "    allowed_entity_types=[\"POLITICIAN\", \"POLITICAL_PARTY\"],\n",
    "    allowed_relation_types=[\"PRESIDENT_OF\", \"MEMBER_OF\"],\n",
    "    allowed_relation_props=[\"description\"],\n",
    "    allowed_entity_props=[\"description\"],\n",
    ")\n",
    "\n",
    "dynamic_index_2 = PropertyGraphIndex.from_documents(\n",
    "    [document],\n",
    "    llm=llm,\n",
    "    embed_kg_nodes=False,\n",
    "    kg_extractors=[kg_extractor],\n",
    "    show_progress=True,\n",
    ")\n",
    "\n",
    "dynamic_index_2.property_graph_store.save_networkx_graph(name=\"./DynamicGraph_2.html\")\n",
    "dynamic_index_2.property_graph_store.get_triplets(\n",
    "    entity_names=[\"Barack Obama\", \"Obama\"]\n",
    ")[:5]"
   ]
  },
  {
   "cell_type": "markdown",
   "metadata": {},
   "source": [
    "# 3 - SchemaLLMPathExtractor"
   ]
  },
  {
   "cell_type": "code",
   "execution_count": null,
   "metadata": {},
   "outputs": [
    {
     "name": "stderr",
     "output_type": "stream",
     "text": [
      "\n",
      "Parsing nodes: 100%|██████████| 1/1 [00:00<00:00, 41.31it/s]\n",
      "\n",
      "\u001b[A\n",
      "\u001b[A\n",
      "\u001b[A\n",
      "\u001b[A\n",
      "\u001b[A\n",
      "\u001b[A\n",
      "\u001b[A\n",
      "\u001b[A\n",
      "\u001b[A\n",
      "\u001b[A\n",
      "\u001b[A\n",
      "Extracting paths from text with schema: 100%|██████████| 11/11 [02:02<00:00, 11.14s/it]\n"
     ]
    },
    {
     "data": {
      "text/plain": [
       "[(EntityNode(label='PERSON', embedding=None, properties={'title': 'Barack Obama', 'triplet_source_id': 'e3199329-841e-4080-ab5a-43dbcf2f6a8e'}, name='Barack Obama'),\n",
       "  Relation(label='HAS', source_id='Barack Obama', target_id='economic stimulus package', properties={'extra_description': 'Legacy and recognition', 'title': 'Barack Obama', 'triplet_source_id': 'e3199329-841e-4080-ab5a-43dbcf2f6a8e'}),\n",
       "  EntityNode(label='CONCEPT', embedding=None, properties={'title': 'Barack Obama', 'triplet_source_id': 'e3199329-841e-4080-ab5a-43dbcf2f6a8e'}, name='economic stimulus package')),\n",
       " (EntityNode(label='PERSON', embedding=None, properties={'title': 'Barack Obama', 'triplet_source_id': 'e3199329-841e-4080-ab5a-43dbcf2f6a8e'}, name='Barack Obama'),\n",
       "  Relation(label='ACKNOWLEDGED', source_id='Barack Obama', target_id='Youthful image', properties={'extra_description': 'Acknowledged his youthful image', 'title': 'Barack Obama', 'triplet_source_id': '0fb0c21c-cd37-431c-ac8f-f6643e0d4c59'}),\n",
       "  EntityNode(label='CONCEPT', embedding=None, properties={'title': 'Barack Obama', 'triplet_source_id': '0fb0c21c-cd37-431c-ac8f-f6643e0d4c59'}, name='Youthful image')),\n",
       " (EntityNode(label='PERSON', embedding=None, properties={'title': 'Barack Obama', 'triplet_source_id': 'e3199329-841e-4080-ab5a-43dbcf2f6a8e'}, name='Barack Obama'),\n",
       "  Relation(label='NAMED', source_id='Barack Obama', target_id='2009 Nobel Peace Prize laureate', properties={'title': 'Barack Obama', 'triplet_source_id': 'ff6f9933-1899-44ac-b3f2-f2be84b2972b'}),\n",
       "  EntityNode(label='EVENT', embedding=None, properties={'title': 'Barack Obama', 'triplet_source_id': 'ff6f9933-1899-44ac-b3f2-f2be84b2972b'}, name='2009 Nobel Peace Prize laureate')),\n",
       " (EntityNode(label='PERSON', embedding=None, properties={'title': 'Barack Obama', 'triplet_source_id': 'e3199329-841e-4080-ab5a-43dbcf2f6a8e'}, name='Barack Obama'),\n",
       "  Relation(label='WORKED_ON', source_id='Barack Obama', target_id='Organizations', properties={'extra_description': 'Worked as a community organizer and lecturer', 'title': 'Barack Obama', 'triplet_source_id': '355e0e09-707f-4041-9c88-b9567c58cc76'}),\n",
       "  EntityNode(label='ORGANIZATION', embedding=None, properties={'title': 'Barack Obama', 'triplet_source_id': '355e0e09-707f-4041-9c88-b9567c58cc76'}, name='Organizations')),\n",
       " (EntityNode(label='PERSON', embedding=None, properties={'title': 'Barack Obama', 'triplet_source_id': 'e3199329-841e-4080-ab5a-43dbcf2f6a8e'}, name='Barack Obama'),\n",
       "  Relation(label='HAS', source_id='Barack Obama', target_id='Time Person of the Year', properties={'extra_description': 'Legacy and recognition', 'title': 'Barack Obama', 'triplet_source_id': 'e3199329-841e-4080-ab5a-43dbcf2f6a8e'}),\n",
       "  EntityNode(label='CONCEPT', embedding=None, properties={'title': 'Barack Obama', 'triplet_source_id': 'e3199329-841e-4080-ab5a-43dbcf2f6a8e'}, name='Time Person of the Year'))]"
      ]
     },
     "execution_count": null,
     "metadata": {},
     "output_type": "execute_result"
    }
   ],
   "source": [
    "kg_extractor = SchemaLLMPathExtractor(\n",
    "    llm=llm,\n",
    "    max_triplets_per_chunk=20,\n",
    "    strict=False,  # Set to False to showcase why it's not going to be the same as DynamicLLMPathExtractor\n",
    "    possible_entities=None,  # USE DEFAULT ENTITIES (PERSON, ORGANIZATION... etc)\n",
    "    possible_relations=None,  # USE DEFAULT RELATIONSHIPS\n",
    "    possible_relation_props=[\n",
    "        \"extra_description\"\n",
    "    ],  # Set to `None` to skip property generation\n",
    "    possible_entity_props=[\n",
    "        \"extra_description\"\n",
    "    ],  # Set to `None` to skip property generation\n",
    "    num_workers=4,\n",
    ")\n",
    "\n",
    "schema_index = PropertyGraphIndex.from_documents(\n",
    "    [document],\n",
    "    llm=llm,\n",
    "    embed_kg_nodes=False,\n",
    "    kg_extractors=[kg_extractor],\n",
    "    show_progress=True,\n",
    ")\n",
    "\n",
    "schema_index.property_graph_store.save_networkx_graph(name=\"./SchemaGraph.html\")\n",
    "schema_index.property_graph_store.get_triplets(entity_names=[\"Barack Obama\", \"Obama\"])[\n",
    "    :5\n",
    "]"
   ]
  },
  {
   "cell_type": "markdown",
   "metadata": {},
   "source": [
    "## Comparison and Analysis\n",
    "\n",
    "Let's compare the results of the three extractors:\n",
    "\n",
    "1. **SimpleLLMPathExtractor**: This extractor creates a basic knowledge graph without any predefined schema. It may produce a larger number of diverse relationships but might lack consistency in entity and relation naming.\n",
    "\n",
    "\n",
    "3. **DynamicLLMPathExtractor**: \n",
    "    - This new extractor combines the flexibility of SimpleLLMPathExtractor with some initial guidance from a schema. It can expand beyond the initial entity and relation types, potentially producing a rich and diverse graph while maintaining some level of consistency. \n",
    "    - Not giving it any entities or relations to start with in the input gives the LLM complete freedom to infer the schema on the fly as it best sees fit. This is going to vary based on the LLM and the temperature used.\n",
    "\n",
    "3. **SchemaLLMPathExtractor**: With a predefined schema, this extractor produces a more structured graph. The entities and relations are limited to those specified in the schema, which can lead to a more consistent but potentially less comprehensive graph. Even if we set \"strict\" to false, the extracted KG Graph doesn't reflect the LLM's pursuit of trying to find new entities and types that fall outside of the input schema's scope.\n",
    "\n",
    "\n",
    "## Key observations:\n",
    "\n",
    "- The SimpleLLMPathExtractor graph might have the most diverse set of entities and relations.\n",
    "- The SchemaLLMPathExtractor graph should be the most consistent but might miss a lot of relationships that don't fit the predefined schema, even if we don't impose a strict validation of the schema.\n",
    "- The DynamicLLMPathExtractor graph should show a balance between diversity and consistency, potentially capturing important relationships that the schema-based approach might miss while still maintaining some structure.\n",
    "\n",
    "## The choice between these extractors depends on the specific use case:\n",
    "\n",
    "- Use SimpleLLMPathExtractor for exploratory analysis where you want to capture a wide range of potential relationships for RAG applications, without caring about the entity types.\n",
    "- Use SchemaLLMPathExtractor when you have a well-defined domain and want to ensure consistency in the extracted knowledge.\n",
    "- Use DynamicLLMPathExtractor when you want a balance between structure and flexibility, allowing the model to discover new entity and relation types while still providing some initial guidance. This one is especially useful if you want a KG with labeled (typed) entities but don't have an input Schema (or you've partially defined the schema as a starting base)."
   ]
  }
 ],
 "metadata": {
  "kernelspec": {
   "display_name": "Python 3",
   "language": "python",
   "name": "python3"
  },
  "language_info": {
   "codemirror_mode": {
    "name": "ipython",
    "version": 3
   },
   "file_extension": ".py",
   "mimetype": "text/x-python",
   "name": "python",
   "nbconvert_exporter": "python",
   "pygments_lexer": "ipython3"
  }
 },
 "nbformat": 4,
 "nbformat_minor": 4
}

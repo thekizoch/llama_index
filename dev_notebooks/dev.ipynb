{
 "cells": [
  {
   "cell_type": "markdown",
   "metadata": {},
   "source": [
    "# Strict Knowledge Graph Construction using Schema LLM Path Extractor \n",
    "\n",
    "In this notebook, we'll use the SchemaLLMPathExtractor to extract triples from pubmed abstracts and visualize the resulting knowledge graphs with Neo4j.\n",
    "\n",
    "If it's your first time constructing a knowledge graph on Neo4j, I recommend first going through the [Customizing property graph index in LlamaIndex tutorial](https://github.com/tomasonjo/blogs/blob/master/llm/llama_index_neo4j_custom_retriever.ipynb).\n",
    "\n",
    "I will build upon concepts from that tutorial. Feel free to use any Neo4j instance you have access to."
   ]
  },
  {
   "cell_type": "markdown",
   "metadata": {},
   "source": [
    "## Get data from pubmed"
   ]
  },
  {
   "cell_type": "code",
   "execution_count": null,
   "metadata": {},
   "outputs": [],
   "source": [
    "import requests\n",
    "from xml.etree import ElementTree\n",
    "\n",
    "from llama_index.core import Document\n",
    "\n",
    "# Step 1: Search for articles\n",
    "search_url = \"https://eutils.ncbi.nlm.nih.gov/entrez/eutils/esearch.fcgi\"\n",
    "search_params = {\"db\": \"pubmed\", \"term\": \"prostatitis plant medicine\", \"retmax\": 10}\n",
    "\n",
    "response = requests.get(search_url, params=search_params)\n",
    "root = ElementTree.fromstring(response.content)\n",
    "pmids = [id_elem.text for id_elem in root.findall(\".//Id\")]\n",
    "\n",
    "# Step 2: Fetch article details\n",
    "fetch_url = \"https://eutils.ncbi.nlm.nih.gov/entrez/eutils/efetch.fcgi\"\n",
    "fetch_params = {\"db\": \"pubmed\", \"id\": \",\".join(pmids), \"retmode\": \"xml\"}\n",
    "\n",
    "response = requests.get(fetch_url, params=fetch_params)\n",
    "root = ElementTree.fromstring(response.content)\n",
    "abstracts = [abstract_elem.text for abstract_elem in root.findall(\".//AbstractText\")]\n",
    "\n",
    "# # Step 3: Create Document objects, skipping None and where len(abstract) < 100\n",
    "documents = [\n",
    "    Document(text=abstract)\n",
    "    for abstract in abstracts\n",
    "    if abstract is not None and len(abstract) > 100\n",
    "]"
   ]
  },
  {
   "cell_type": "code",
   "execution_count": null,
   "metadata": {},
   "outputs": [
    {
     "name": "stdout",
     "output_type": "stream",
     "text": [
      "Number of documents: 12\n",
      "Document 0: Androgen deprivation therapy (ADT) is the primary treatment for advanced prostate cancer (PCa). However, prolonged ADT inevitably results in therapy resistance with the emergence of the castration-resistant PCa phenotype (CRPC). Hence, there is an urgent need to explore new treatment options capable of delaying PCa progression. Hispidin (HPD) is a natural polyketide primarily derived from plants and fungi. HPD has been shown to have a diverse pharmacological profile, exhibiting anti-inflammatory, antiviral, cardiovascular and neuro-protective activities. However, there is currently no research regarding its properties in the context of PCa treatment. This research article seeks to evaluate the anti-cancer effect of HPD and determine the underlying molecular basis in both androgen-sensitive PCa and CRPC cells. Cell growth, migration, and invasion assays were performed via the MTS method, a wound healing assay and the transwell method. To investigate if HPD affected the expression of proteins, Western blot analysis was conducted. Furthermore, apoptosis was assessed by Annexin V-FITC/PI staining and Western blot analyses. HPD exhibited a favorable pharmaceutical profile to inhibit cell growth; disrupt the cell cycle; attenuate wound healing, migration and invasion; and induce apoptosis in PCa cells in vitro. The mechanistic results demonstrated that HPD reduced AR, MMP-2 and MMP-9 expression and activated the caspase-related pathway, leading to programmed cell death in PCa cells. We showed the anti-cancer effect of HPD on PCa cells and confirmed its feasibility as a novel therapeutic agent. This study provides significant insights into the delineation of the molecular mechanism of HPD in PCa cells and the development of an effective and safe therapy using HPD to eliminate PCa progression.\n",
      "Document 1: While conventional medicine has advanced in recent years, there are still concerns about its potential adverse reactions. The ethnopharmacological knowledge established over many centuries and the existence of a variety of metabolites have made medicinal plants, such as the stinging nettle plant, an invaluable resource for treating a wide range of health conditions, considering its minimal adverse effects on human health. The aim of this review is to highlight the therapeutic benefits and biological activities of the edible \n",
      "Document 2: Natural products are being developed as possible treatment options due to the rising prevalence of cancer and the harmful side effects of synthetic medications. Arctiin is a naturally occurring lignan found in numerous plants and exhibits different pharmacological activities, along with cancer. To elucidate the anticancer properties and underlying mechanisms of action, a comprehensive search of various electronic databases was conducted using appropriate keywords to identify relevant publications. The findings suggest that arctiin exhibits anticancer properties against tumor formation and various cancers such as cervical, myeloma, prostate, endothelial, gastric, and colon cancers in several preclinical pharmacological investigations. This naturally occurring compound exerts its anticancer effect through different cellular mechanisms, including mitochondrial dysfunction, cell cycle at different phases (G2/M), inhibition of cell proliferation, apoptotic cell death, and cytotoxic effects, as well as inhibition of migration and invasion of various malignant cells. Moreover, the study also revealed that, among the various cellular pathways, arctiin was shown to be more potent in terms of the PI3K/AKT and JAK/STAT signaling pathways. However, pharmacokinetic investigation indicated the compound's poor oral bioavailability. Because of these findings, arctiin might be considered a promising chemotherapeutic drug candidate.\n",
      "Document 3: Cancer is a serious global public health issue, and a great deal of research has been made to treat cancer. Of these, discovery of promising compounds that effectively fight cancer always has been the main point of interest in pharmaceutical research. Carnosic acid (CA) is a phenolic diterpenoid compound widely present in Lamiaceae plants such as Rosemary (Rosmarinus officinalis L.). In recent years, there has been increasing evidence that CA has significant anti-cancer activity, such as leukaemia, colorectal cancer, breast cancer, lung cancer, liver cancer, pancreatic cancer, stomach cancer, lymphoma, prostate cancer, oral cancer, etc. The potential mechanisms involved by CA, including inhibiting cell proliferation, inhibiting metastasis, inducing cell apoptosis, stimulating autophagy, regulating the immune system, reducing inflammation, regulating the gut microbiota, and enhancing the effects of other anti-cancer drugs. This article reviews the biosynthesis, pharmacokinetics and metabolism, safety and toxicity, as well as the molecular mechanisms and signaling pathways of the anticancer activity of CA. This will contribute to the development of CA or CA-containing functional foods for the prevention and treatment of cancer, providing important advances in the advancement of cancer treatment strategies.\n",
      "Document 4: Prostate cancer (PCa) is one of the causes of death in men worldwide. Although treatment strategies have been developed, the recurrence of the disease and consequential side effects remain an essential concern. \n",
      "Document 5: The EADR exhibits anti-cancer activity against the LNCaP human prostate cancer cell line by inducing cytotoxicity and apoptosis. Our findings suggest that EADR promotes apoptosis by upregulating pro-apoptotic BAX, whereas downregulation of anti-apoptotic Bcl-2 results in the reduction of MMP and the activation of caspase-3. Of particular interest is the presence of epilupeol, a major compound identified in EADR, which may hold promise as a candidate for the development of therapeutic agents for prostate cancer.\n"
     ]
    }
   ],
   "source": [
    "print(f\"Number of documents retrieved: {len(documents)}\")\n",
    "\n",
    "# Print the documents to verify\n",
    "for i, doc in enumerate(documents):\n",
    "    print(f\"Document {i}: {doc.text}\")\n",
    "    if i > 4:\n",
    "        break"
   ]
  },
  {
   "cell_type": "markdown",
   "metadata": {},
   "source": [
    "## Create a local neo4j docker instance"
   ]
  },
  {
   "cell_type": "markdown",
   "metadata": {},
   "source": [
    "for local docker instance, using windows on anaconda prompt, run below\n",
    "\n",
    " ```\n",
    " docker run ^\n",
    "    -p 7474:7474 -p 7687:7687 ^\n",
    "    -v \"%CD%/data:/data\" -v \"%CD%/plugins:/plugins\" ^\n",
    "    --name neo4j-apoc ^\n",
    "    -e NEO4J_apoc_export_file_enabled=true ^\n",
    "    -e NEO4J_apoc_import_file_enabled=true ^\n",
    "    -e NEO4J_apoc_import_file_use__neo4j__config=true ^\n",
    "    -e NEO4JLABS_PLUGINS=\"[\\\"apoc\\\"]\" ^\n",
    "    neo4j:latest\n",
    "```\n",
    "\n",
    "for mac or linux, use below\n",
    "\n",
    "```\n",
    "docker run \\\n",
    "    -p 7474:7474 -p 7687:7687 \\\n",
    "    -v $PWD/data:/data -v $PWD/plugins:/plugins \\\n",
    "    --name neo4j-apoc \\\n",
    "    -e NEO4J_apoc_export_file_enabled=true \\\n",
    "    -e NEO4J_apoc_import_file_enabled=true \\\n",
    "    -e NEO4J_apoc_import_file_use__neo4j__config=true \\\n",
    "    -e NEO4JLABS_PLUGINS=\\[\\\"apoc\\\"\\] \\\n",
    "    neo4j:latest\n",
    "```"
   ]
  },
  {
   "cell_type": "markdown",
   "metadata": {},
   "source": [
    "Go see your instance at http://localhost:7474/browser/. Default password is 'neo4j'.\n",
    "\n",
    "You will be asked to change the password, you can just change it to 'password'."
   ]
  },
  {
   "cell_type": "code",
   "execution_count": null,
   "metadata": {},
   "outputs": [
    {
     "name": "stderr",
     "output_type": "stream",
     "text": [
      "Received notification from DBMS server: {severity: WARNING} {code: Neo.ClientNotification.Statement.FeatureDeprecationWarning} {category: DEPRECATION} {title: This feature is deprecated and will be removed in future versions.} {description: The procedure has a deprecated field. ('config' used by 'apoc.meta.graphSample' is deprecated.)} {position: line: 1, column: 1, offset: 0} for query: \"CALL apoc.meta.graphSample() YIELD nodes, relationships RETURN nodes, [rel in relationships | {name:apoc.any.property(rel, 'type'), count: apoc.any.property(rel, 'count')}] AS relationships\"\n"
     ]
    }
   ],
   "source": [
    "import nest_asyncio\n",
    "\n",
    "nest_asyncio.apply()\n",
    "\n",
    "from llama_index.graph_stores.neo4j import Neo4jPGStore\n",
    "\n",
    "username = \"neo4j\"\n",
    "password = \"password\"\n",
    "url = \"bolt://localhost:7687\"\n",
    "\n",
    "graph_store = Neo4jPGStore(username=username, password=password, url=url)"
   ]
  },
  {
   "cell_type": "markdown",
   "metadata": {},
   "source": [
    "# setup\n",
    "\n",
    "Create an .env file in the same dir as this notebook with the following:\n",
    "\n",
    "```bash\n",
    "OPENAI_API_KEY=\"sk-your-openai-api-key\"\n",
    "```"
   ]
  },
  {
   "cell_type": "code",
   "execution_count": null,
   "metadata": {},
   "outputs": [],
   "source": [
    "import os\n",
    "\n",
    "\n",
    "def load_env(env_path=\".env\"):\n",
    "    \"\"\"\n",
    "    Load environment variables from a .env file.\n",
    "    \"\"\"\n",
    "    if not os.path.exists(env_path):\n",
    "        print(f\"Warning: {env_path} file not found.\")\n",
    "        return\n",
    "\n",
    "    with open(env_path) as file:\n",
    "        for line in file:\n",
    "            line = line.strip()\n",
    "            if line and not line.startswith(\"#\"):\n",
    "                key, value = line.split(\"=\", 1)\n",
    "                os.environ[key.strip()] = value.strip()"
   ]
  },
  {
   "cell_type": "code",
   "execution_count": null,
   "metadata": {},
   "outputs": [],
   "source": [
    "from llama_index.embeddings.openai import OpenAIEmbedding\n",
    "from llama_index.llms.openai import OpenAI\n",
    "\n",
    "from llama_index.core import PropertyGraphIndex\n",
    "from llama_index.core.indices.property_graph import SchemaLLMPathExtractor\n",
    "\n",
    "load_env()\n",
    "llm = OpenAI(model=\"gpt-4o-mini\", temperature=0.0)\n",
    "embed_model = OpenAIEmbedding(model_name=\"text-embedding-3-small\")"
   ]
  },
  {
   "cell_type": "markdown",
   "metadata": {},
   "source": [
    "## building with strict=False"
   ]
  },
  {
   "cell_type": "code",
   "execution_count": null,
   "metadata": {},
   "outputs": [],
   "source": [
    "from typing import Literal\n",
    "\n",
    "# Define entities and relations\n",
    "possible_entities = Literal[\n",
    "    \"DRUG\",\n",
    "    \"DISEASE\",\n",
    "    \"BIOLOGICAL_PROCESS\",\n",
    "    \"MOLECULAR_FUNCTION\",\n",
    "    \"CELL_LINE\",\n",
    "    \"SIGNALING_PATHWAY\",\n",
    "    \"COMPOUND\",\n",
    "    \"PLANT\",\n",
    "]\n",
    "\n",
    "possible_relations = Literal[\n",
    "    \"TREATS\", \"HAS_EFFECT_ON\", \"INVOLVES\", \"EXPRESSED_IN\", \"PART_OF\", \"CONTAINS\"\n",
    "]"
   ]
  },
  {
   "cell_type": "markdown",
   "metadata": {},
   "source": [
    "To reduce processing time, we can set the number of documents to 5 or any number you want."
   ]
  },
  {
   "cell_type": "code",
   "execution_count": null,
   "metadata": {},
   "outputs": [],
   "source": [
    "N = 5"
   ]
  },
  {
   "cell_type": "code",
   "execution_count": null,
   "metadata": {},
   "outputs": [
    {
     "name": "stderr",
     "output_type": "stream",
     "text": [
      "Parsing nodes: 100%|██████████| 3/3 [00:00<00:00, 1235.68it/s]\n",
      "Extracting paths from text with schema: 100%|██████████| 3/3 [00:10<00:00,  3.61s/it]\n",
      "Generating embeddings: 100%|██████████| 1/1 [00:00<00:00,  2.27it/s]\n",
      "Generating embeddings: 100%|██████████| 2/2 [00:00<00:00,  2.93it/s]\n",
      "Received notification from DBMS server: {severity: WARNING} {code: Neo.ClientNotification.Statement.FeatureDeprecationWarning} {category: DEPRECATION} {title: This feature is deprecated and will be removed in future versions.} {description: The procedure has a deprecated field. ('config' used by 'apoc.meta.graphSample' is deprecated.)} {position: line: 1, column: 1, offset: 0} for query: \"CALL apoc.meta.graphSample() YIELD nodes, relationships RETURN nodes, [rel in relationships | {name:apoc.any.property(rel, 'type'), count: apoc.any.property(rel, 'count')}] AS relationships\"\n"
     ]
    }
   ],
   "source": [
    "# building with strict=False\n",
    "kg_extractor = SchemaLLMPathExtractor(\n",
    "    llm=llm,\n",
    "    max_triplets_per_chunk=20,\n",
    "    strict=False,\n",
    "    possible_entities=possible_entities,\n",
    "    possible_relations=possible_relations,\n",
    "    num_workers=4,\n",
    ")\n",
    "\n",
    "schema_index = PropertyGraphIndex.from_documents(\n",
    "    documents[:N],\n",
    "    llm=llm,\n",
    "    embed_model=embed_model,\n",
    "    property_graph_store=graph_store,\n",
    "    kg_extractors=[kg_extractor],\n",
    "    show_progress=True,\n",
    ")"
   ]
  },
  {
   "cell_type": "markdown",
   "metadata": {},
   "source": [
    "Go check the graph at http://localhost:7474/browser/ and try running the following or similar Cypher query:\n",
    "\n",
    "```cypher\n",
    "MATCH (n:COMPOUND)-[r:HAS_EFFECT_ON]->(m:DISEASE) RETURN n, r, m\n",
    "```"
   ]
  },
  {
   "cell_type": "code",
   "execution_count": null,
   "metadata": {},
   "outputs": [
    {
     "data": {
      "text/plain": [
       "[]"
      ]
     },
     "execution_count": null,
     "metadata": {},
     "output_type": "execute_result"
    }
   ],
   "source": [
    "# after examining the graph, we can delete it\n",
    "graph_store.structured_query(\"MATCH (n) DETACH DELETE n\")"
   ]
  },
  {
   "cell_type": "markdown",
   "metadata": {},
   "source": [
    "## building with strict=True, without properties"
   ]
  },
  {
   "cell_type": "code",
   "execution_count": null,
   "metadata": {},
   "outputs": [],
   "source": [
    "from typing import List, Tuple\n",
    "\n",
    "Triple = Tuple[str, str, str]\n",
    "kg_validation_schema: List[Triple] = [\n",
    "    (\"DRUG\", \"TREATS\", \"DISEASE\"),\n",
    "    (\"DRUG\", \"HAS_EFFECT_ON\", \"BIOLOGICAL_PROCESS\"),\n",
    "    (\"BIOLOGICAL_PROCESS\", \"INVOLVES\", \"MOLECULAR_FUNCTION\"),\n",
    "    (\"BIOLOGICAL_PROCESS\", \"EXPRESSED_IN\", \"CELL_LINE\"),\n",
    "    (\"BIOLOGICAL_PROCESS\", \"PART_OF\", \"SIGNALING_PATHWAY\"),\n",
    "    (\"PLANT\", \"CONTAINS\", \"COMPOUND\"),\n",
    "    (\"COMPOUND\", \"HAS_EFFECT_ON\", \"BIOLOGICAL_PROCESS\"),\n",
    "    (\"COMPOUND\", \"TREATS\", \"DISEASE\"),\n",
    "    (\"DRUG\", \"PART_OF\", \"SIGNALING_PATHWAY\"),\n",
    "    (\"DISEASE\", \"INVOLVES\", \"SIGNALING_PATHWAY\"),\n",
    "]"
   ]
  },
  {
   "cell_type": "code",
   "execution_count": null,
   "metadata": {},
   "outputs": [
    {
     "name": "stderr",
     "output_type": "stream",
     "text": [
      "Parsing nodes: 100%|██████████| 3/3 [00:00<00:00, 1214.10it/s]\n",
      "Extracting paths from text with schema: 100%|██████████| 3/3 [00:08<00:00,  2.94s/it]\n",
      "Generating embeddings: 100%|██████████| 1/1 [00:00<00:00,  2.18it/s]\n",
      "Generating embeddings: 100%|██████████| 1/1 [00:00<00:00,  2.45it/s]\n",
      "Received notification from DBMS server: {severity: WARNING} {code: Neo.ClientNotification.Statement.FeatureDeprecationWarning} {category: DEPRECATION} {title: This feature is deprecated and will be removed in future versions.} {description: The procedure has a deprecated field. ('config' used by 'apoc.meta.graphSample' is deprecated.)} {position: line: 1, column: 1, offset: 0} for query: \"CALL apoc.meta.graphSample() YIELD nodes, relationships RETURN nodes, [rel in relationships | {name:apoc.any.property(rel, 'type'), count: apoc.any.property(rel, 'count')}] AS relationships\"\n"
     ]
    }
   ],
   "source": [
    "# building with strict=True, withou properties\n",
    "kg_extractor = SchemaLLMPathExtractor(\n",
    "    llm=llm,\n",
    "    max_triplets_per_chunk=20,\n",
    "    strict=True,\n",
    "    possible_entities=possible_entities,\n",
    "    possible_entity_props=None,\n",
    "    possible_relations=possible_relations,\n",
    "    possible_relation_props=None,\n",
    "    kg_validation_schema=kg_validation_schema,\n",
    "    num_workers=4,\n",
    ")\n",
    "\n",
    "schema_index = PropertyGraphIndex.from_documents(\n",
    "    documents[:N],\n",
    "    llm=llm,\n",
    "    embed_model=embed_model,\n",
    "    property_graph_store=graph_store,\n",
    "    kg_extractors=[kg_extractor],\n",
    "    show_progress=True,\n",
    ")"
   ]
  },
  {
   "cell_type": "markdown",
   "metadata": {},
   "source": [
    "Check the graph at http://localhost:7474/browser/ \n",
    "\n",
    "We can see that the graph is much more strict, and there are fewer entities extracted. This is due to us defining which relationships (including the directionality) are allowed."
   ]
  },
  {
   "cell_type": "code",
   "execution_count": null,
   "metadata": {},
   "outputs": [
    {
     "data": {
      "text/plain": [
       "[]"
      ]
     },
     "execution_count": null,
     "metadata": {},
     "output_type": "execute_result"
    }
   ],
   "source": [
    "# after examining the graph, we can delete it\n",
    "graph_store.structured_query(\"MATCH (n) DETACH DELETE n\")"
   ]
  },
  {
   "cell_type": "markdown",
   "metadata": {},
   "source": [
    "## building with strict=True, with properties"
   ]
  },
  {
   "cell_type": "code",
   "execution_count": null,
   "metadata": {},
   "outputs": [],
   "source": [
    "# Define entity properties with descriptions\n",
    "possible_entity_props = [\n",
    "    (\"SYNONYMS\", \"Other names for the entity\"),\n",
    "    (\"SOURCE\", \"The origin of the entity\"),\n",
    "    (\"TOXICITY\", \"Information on the toxicity of the entity\"),\n",
    "]\n",
    "\n",
    "# Define relations and their properties with descriptions\n",
    "possible_relation_props = [\n",
    "    (\"EFFECT_STRENGTH\", \"The strength of the effect (e.g., potent, moderate, weak)\"),\n",
    "    (\n",
    "        \"EVIDENCE\",\n",
    "        \"The type of evidence supporting the relation (e.g., preclinical, clinical, in vitro)\",\n",
    "    ),\n",
    "    (\"DOSAGE\", \"The dosage required to achieve the effect\"),\n",
    "]"
   ]
  },
  {
   "cell_type": "code",
   "execution_count": null,
   "metadata": {},
   "outputs": [
    {
     "name": "stderr",
     "output_type": "stream",
     "text": [
      "Parsing nodes: 100%|██████████| 5/5 [00:00<00:00, 1267.77it/s]\n",
      "Extracting paths from text with schema: 100%|██████████| 5/5 [01:12<00:00, 14.50s/it]\n",
      "Generating embeddings: 100%|██████████| 1/1 [00:00<00:00,  2.05it/s]\n",
      "Generating embeddings: 100%|██████████| 1/1 [00:00<00:00,  3.71it/s]\n",
      "Received notification from DBMS server: {severity: WARNING} {code: Neo.ClientNotification.Statement.FeatureDeprecationWarning} {category: DEPRECATION} {title: This feature is deprecated and will be removed in future versions.} {description: The procedure has a deprecated field. ('config' used by 'apoc.meta.graphSample' is deprecated.)} {position: line: 1, column: 1, offset: 0} for query: \"CALL apoc.meta.graphSample() YIELD nodes, relationships RETURN nodes, [rel in relationships | {name:apoc.any.property(rel, 'type'), count: apoc.any.property(rel, 'count')}] AS relationships\"\n"
     ]
    }
   ],
   "source": [
    "# building with strict=True, with properties\n",
    "kg_extractor = SchemaLLMPathExtractor(\n",
    "    llm=llm,\n",
    "    max_triplets_per_chunk=20,\n",
    "    strict=True,\n",
    "    possible_entities=possible_entities,\n",
    "    possible_entity_props=possible_entity_props,\n",
    "    possible_relations=possible_relations,\n",
    "    possible_relation_props=possible_relation_props,\n",
    "    kg_validation_schema=kg_validation_schema,\n",
    "    num_workers=4,\n",
    ")\n",
    "\n",
    "schema_index = PropertyGraphIndex.from_documents(\n",
    "    documents[:N],\n",
    "    llm=llm,\n",
    "    embed_model=embed_model,\n",
    "    property_graph_store=graph_store,\n",
    "    kg_extractors=[kg_extractor],\n",
    "    show_progress=True,\n",
    ")"
   ]
  }
 ],
 "metadata": {
  "kernelspec": {
   "display_name": "llama-index-cumQImzL-py3.11",
   "language": "python",
   "name": "python3"
  },
  "language_info": {
   "codemirror_mode": {
    "name": "ipython",
    "version": 3
   },
   "file_extension": ".py",
   "mimetype": "text/x-python",
   "name": "python",
   "nbconvert_exporter": "python",
   "pygments_lexer": "ipython3"
  }
 },
 "nbformat": 4,
 "nbformat_minor": 2
}

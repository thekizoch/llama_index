{
 "cells": [
  {
   "cell_type": "markdown",
   "metadata": {},
   "source": [
    "# Strict Knowledge Graph Construction using Schema LLM Path Extractor \n",
    "\n",
    "In this notebook, we'll use the SchemaLLMPathExtractor to extract triples from pubmed abstracts and visualize the resulting knowledge graphs with Neo4j."
   ]
  },
  {
   "cell_type": "code",
   "execution_count": null,
   "metadata": {},
   "outputs": [],
   "source": [
    "import requests\n",
    "from xml.etree import ElementTree\n",
    "\n",
    "from llama_index.core import Document\n",
    "\n",
    "# Step 1: Search for articles\n",
    "search_url = \"https://eutils.ncbi.nlm.nih.gov/entrez/eutils/esearch.fcgi\"\n",
    "search_params = {\"db\": \"pubmed\", \"term\": \"prostatitis plant medicine\", \"retmax\": 10}\n",
    "\n",
    "response = requests.get(search_url, params=search_params)\n",
    "root = ElementTree.fromstring(response.content)\n",
    "pmids = [id_elem.text for id_elem in root.findall(\".//Id\")]\n",
    "\n",
    "# Step 2: Fetch article details\n",
    "fetch_url = \"https://eutils.ncbi.nlm.nih.gov/entrez/eutils/efetch.fcgi\"\n",
    "fetch_params = {\"db\": \"pubmed\", \"id\": \",\".join(pmids), \"retmode\": \"xml\"}\n",
    "\n",
    "response = requests.get(fetch_url, params=fetch_params)\n",
    "root = ElementTree.fromstring(response.content)\n",
    "abstracts = [abstract_elem.text for abstract_elem in root.findall(\".//AbstractText\")]\n",
    "\n",
    "# # Step 3: Create Document objects, skipping None and where len(abstract) < 100\n",
    "documents = [\n",
    "    Document(text=abstract)\n",
    "    for abstract in abstracts\n",
    "    if abstract is not None and len(abstract) > 100\n",
    "]"
   ]
  },
  {
   "cell_type": "code",
   "execution_count": null,
   "metadata": {},
   "outputs": [
    {
     "name": "stdout",
     "output_type": "stream",
     "text": [
      "Number of documents: 13\n",
      "Document 0: While conventional medicine has advanced in recent years, there are still concerns about its potential adverse reactions. The ethnopharmacological knowledge established over many centuries and the existence of a variety of metabolites have made medicinal plants, such as the stinging nettle plant, an invaluable resource for treating a wide range of health conditions, considering its minimal adverse effects on human health. The aim of this review is to highlight the therapeutic benefits and biological activities of the edible \n",
      "Document 1: Natural products are being developed as possible treatment options due to the rising prevalence of cancer and the harmful side effects of synthetic medications. Arctiin is a naturally occurring lignan found in numerous plants and exhibits different pharmacological activities, along with cancer. To elucidate the anticancer properties and underlying mechanisms of action, a comprehensive search of various electronic databases was conducted using appropriate keywords to identify relevant publications. The findings suggest that arctiin exhibits anticancer properties against tumor formation and various cancers such as cervical, myeloma, prostate, endothelial, gastric, and colon cancers in several preclinical pharmacological investigations. This naturally occurring compound exerts its anticancer effect through different cellular mechanisms, including mitochondrial dysfunction, cell cycle at different phases (G2/M), inhibition of cell proliferation, apoptotic cell death, and cytotoxic effects, as well as inhibition of migration and invasion of various malignant cells. Moreover, the study also revealed that, among the various cellular pathways, arctiin was shown to be more potent in terms of the PI3K/AKT and JAK/STAT signaling pathways. However, pharmacokinetic investigation indicated the compound's poor oral bioavailability. Because of these findings, arctiin might be considered a promising chemotherapeutic drug candidate.\n",
      "Document 2: Cancer is a serious global public health issue, and a great deal of research has been made to treat cancer. Of these, discovery of promising compounds that effectively fight cancer always has been the main point of interest in pharmaceutical research. Carnosic acid (CA) is a phenolic diterpenoid compound widely present in Lamiaceae plants such as Rosemary (Rosmarinus officinalis L.). In recent years, there has been increasing evidence that CA has significant anti-cancer activity, such as leukaemia, colorectal cancer, breast cancer, lung cancer, liver cancer, pancreatic cancer, stomach cancer, lymphoma, prostate cancer, oral cancer, etc. The potential mechanisms involved by CA, including inhibiting cell proliferation, inhibiting metastasis, inducing cell apoptosis, stimulating autophagy, regulating the immune system, reducing inflammation, regulating the gut microbiota, and enhancing the effects of other anti-cancer drugs. This article reviews the biosynthesis, pharmacokinetics and metabolism, safety and toxicity, as well as the molecular mechanisms and signaling pathways of the anticancer activity of CA. This will contribute to the development of CA or CA-containing functional foods for the prevention and treatment of cancer, providing important advances in the advancement of cancer treatment strategies.\n",
      "Document 3: Prostate cancer (PCa) is one of the causes of death in men worldwide. Although treatment strategies have been developed, the recurrence of the disease and consequential side effects remain an essential concern. \n",
      "Document 4: The EADR exhibits anti-cancer activity against the LNCaP human prostate cancer cell line by inducing cytotoxicity and apoptosis. Our findings suggest that EADR promotes apoptosis by upregulating pro-apoptotic BAX, whereas downregulation of anti-apoptotic Bcl-2 results in the reduction of MMP and the activation of caspase-3. Of particular interest is the presence of epilupeol, a major compound identified in EADR, which may hold promise as a candidate for the development of therapeutic agents for prostate cancer.\n",
      "Document 5: Chronic diseases like cancer and diabetes are the major public health concerns of India and worldwide. Nowadays, plant-derived products are in great demand for the treatment of these diseases. Pumpkin seeds are traditionally implicated for their pharmacological properties, as exemplified by benign prostatic hyperplasia. Earlier, pumpkin seed proteins were extracted by the Osborne method, and their functional and nutritional qualities were evaluated. Here, the aim is to assess in vitro, the anticancer and antidiabetic properties of seed protein fractions. HepG2, MDA-MB-231, and MCF-7 cell lines were treated with water-soluble (WF) and alkali-soluble fractions (AF) to assess cytotoxicity, while pancreatic β-cells and insulin resistance (IR) - HepG2 cell lines were treated with WF to evaluate the antidiabetic potential. WF and AF showed cytotoxic effects towards HepG2 and MDA-MB-231 cell lines, suggesting apoptosis-mediated anticancerous activity. WF potentiates glucose-stimulated insulin secretion in pancreatic β-cells, in a dose-dependent manner. In IR-HepG2 cell line studies, control, metformin, and WF-treated groups showed uptake of glucose, when compared to the diabetic group, which is well-correlated with the upregulated expressions of GLUT2 and GLUT4 transporters in these groups. These results indicate that proteins from WF and AF may have anticancerous and antidiabetic properties and thus have the potential to utilize pumpkin proteins in the management of cancer and diabetes.\n"
     ]
    }
   ],
   "source": [
    "print(f\"Number of documents: {len(documents)}\")\n",
    "\n",
    "# Print the documents to verify\n",
    "for i, doc in enumerate(documents):\n",
    "    print(f\"Document {i}: {doc.text}\")\n",
    "    if i > 4:\n",
    "        break"
   ]
  },
  {
   "cell_type": "markdown",
   "metadata": {},
   "source": [
    "for local docker instance, using windows on anaconda prompt, run below\n",
    "\n",
    " ```\n",
    " docker run ^\n",
    "    -p 7474:7474 -p 7687:7687 ^\n",
    "    -v \"%CD%/data:/data\" -v \"%CD%/plugins:/plugins\" ^\n",
    "    --name neo4j-apoc ^\n",
    "    -e NEO4J_apoc_export_file_enabled=true ^\n",
    "    -e NEO4J_apoc_import_file_enabled=true ^\n",
    "    -e NEO4J_apoc_import_file_use__neo4j__config=true ^\n",
    "    -e NEO4JLABS_PLUGINS=\"[\\\"apoc\\\"]\" ^\n",
    "    neo4j:latest\n",
    "```\n",
    "\n",
    "for mac or linux, use below\n",
    "\n",
    "```\n",
    "docker run \\\n",
    "    -p 7474:7474 -p 7687:7687 \\\n",
    "    -v $PWD/data:/data -v $PWD/plugins:/plugins \\\n",
    "    --name neo4j-apoc \\\n",
    "    -e NEO4J_apoc_export_file_enabled=true \\\n",
    "    -e NEO4J_apoc_import_file_enabled=true \\\n",
    "    -e NEO4J_apoc_import_file_use__neo4j__config=true \\\n",
    "    -e NEO4JLABS_PLUGINS=\\[\\\"apoc\\\"\\] \\\n",
    "    neo4j:latest\n",
    "```"
   ]
  },
  {
   "cell_type": "markdown",
   "metadata": {},
   "source": [
    "Go see your instance at http://localhost:7474/browser/. You will be asked to change the password."
   ]
  },
  {
   "cell_type": "code",
   "execution_count": null,
   "metadata": {},
   "outputs": [
    {
     "name": "stderr",
     "output_type": "stream",
     "text": [
      "Received notification from DBMS server: {severity: WARNING} {code: Neo.ClientNotification.Statement.FeatureDeprecationWarning} {category: DEPRECATION} {title: This feature is deprecated and will be removed in future versions.} {description: The procedure has a deprecated field. ('config' used by 'apoc.meta.graphSample' is deprecated.)} {position: line: 1, column: 1, offset: 0} for query: \"CALL apoc.meta.graphSample() YIELD nodes, relationships RETURN nodes, [rel in relationships | {name:apoc.any.property(rel, 'type'), count: apoc.any.property(rel, 'count')}] AS relationships\"\n"
     ]
    }
   ],
   "source": [
    "import nest_asyncio\n",
    "\n",
    "nest_asyncio.apply()\n",
    "\n",
    "from llama_index.graph_stores.neo4j import Neo4jPGStore\n",
    "\n",
    "username = \"neo4j\"\n",
    "password = \"password\"\n",
    "url = \"bolt://localhost:7687\"\n",
    "\n",
    "graph_store = Neo4jPGStore(username=username, password=password, url=url)"
   ]
  },
  {
   "cell_type": "code",
   "execution_count": null,
   "metadata": {},
   "outputs": [],
   "source": [
    "import os\n",
    "\n",
    "\n",
    "def load_env(env_path=\".env\"):\n",
    "    \"\"\"\n",
    "    Load environment variables from a .env file.\n",
    "    \"\"\"\n",
    "    if not os.path.exists(env_path):\n",
    "        print(f\"Warning: {env_path} file not found.\")\n",
    "        return\n",
    "\n",
    "    with open(env_path) as file:\n",
    "        for line in file:\n",
    "            line = line.strip()\n",
    "            if line and not line.startswith(\"#\"):\n",
    "                key, value = line.split(\"=\", 1)\n",
    "                os.environ[key.strip()] = value.strip()"
   ]
  },
  {
   "cell_type": "code",
   "execution_count": null,
   "metadata": {},
   "outputs": [],
   "source": [
    "from llama_index.embeddings.openai import OpenAIEmbedding\n",
    "from llama_index.llms.openai import OpenAI\n",
    "\n",
    "load_env()\n",
    "llm = OpenAI(model=\"gpt-4o-mini\", temperature=0.0)\n",
    "embed_model = OpenAIEmbedding(model_name=\"text-embedding-3-small\")"
   ]
  },
  {
   "cell_type": "code",
   "execution_count": null,
   "metadata": {},
   "outputs": [],
   "source": [
    "from typing import Literal\n",
    "\n",
    "# Define entities and relations\n",
    "possible_entities = Literal[\n",
    "    \"DRUG\",\n",
    "    \"DISEASE\",\n",
    "    \"BIOLOGICAL_PROCESS\",\n",
    "    \"MOLECULAR_FUNCTION\",\n",
    "    \"CELL_LINE\",\n",
    "    \"SIGNALING_PATHWAY\",\n",
    "    \"COMPOUND\",\n",
    "    \"PLANT\",\n",
    "]\n",
    "possible_entity_props = [\"SYNONYMS\", \"SOURCE\", \"TOXICITY\"]\n",
    "possible_relations = Literal[\n",
    "    \"TREATS\", \"HAS_EFFECT_ON\", \"INVOLVES\", \"EXPRESSED_IN\", \"PART_OF\", \"CONTAINS\"\n",
    "]\n",
    "possible_relation_props = [\"EFFECT_STRENGTH\", \"EVIDENCE\", \"DOSAGE\"]"
   ]
  },
  {
   "cell_type": "code",
   "execution_count": null,
   "metadata": {},
   "outputs": [],
   "source": [
    "from llama_index.core import PropertyGraphIndex\n",
    "from llama_index.core.indices.property_graph import SchemaLLMPathExtractor\n",
    "\n",
    "kg_extractor = SchemaLLMPathExtractor(\n",
    "    llm=llm,\n",
    "    max_triplets_per_chunk=20,\n",
    "    strict=False,  #\n",
    "    possible_entities=possible_entities,\n",
    "    possible_entity_props=possible_entity_props,\n",
    "    possible_relations=possible_relations,\n",
    "    possible_relation_props=possible_relation_props,\n",
    "    num_workers=4,\n",
    ")"
   ]
  },
  {
   "cell_type": "code",
   "execution_count": null,
   "metadata": {},
   "outputs": [
    {
     "name": "stderr",
     "output_type": "stream",
     "text": [
      "Parsing nodes: 100%|██████████| 3/3 [00:00<00:00, 1016.64it/s]\n",
      "Extracting paths from text with schema: 100%|██████████| 3/3 [00:08<00:00,  2.74s/it]\n",
      "Generating embeddings: 100%|██████████| 1/1 [00:00<00:00,  2.29it/s]\n",
      "Generating embeddings: 100%|██████████| 1/1 [00:00<00:00,  1.78it/s]\n",
      "Received notification from DBMS server: {severity: WARNING} {code: Neo.ClientNotification.Statement.FeatureDeprecationWarning} {category: DEPRECATION} {title: This feature is deprecated and will be removed in future versions.} {description: The procedure has a deprecated field. ('config' used by 'apoc.meta.graphSample' is deprecated.)} {position: line: 1, column: 1, offset: 0} for query: \"CALL apoc.meta.graphSample() YIELD nodes, relationships RETURN nodes, [rel in relationships | {name:apoc.any.property(rel, 'type'), count: apoc.any.property(rel, 'count')}] AS relationships\"\n"
     ]
    }
   ],
   "source": [
    "schema_index = PropertyGraphIndex.from_documents(\n",
    "    documents[:3],\n",
    "    llm=llm,\n",
    "    embed_model=embed_model,\n",
    "    property_graph_store=graph_store,\n",
    "    kg_extractors=[kg_extractor],\n",
    "    show_progress=True,\n",
    ")"
   ]
  },
  {
   "cell_type": "code",
   "execution_count": null,
   "metadata": {},
   "outputs": [
    {
     "name": "stdout",
     "output_type": "stream",
     "text": [
      "Name: llama-index\n",
      "Version: 0.10.58\n",
      "Summary: Interface between LLMs and your data\n",
      "Home-page: https://llamaindex.ai\n",
      "Author: Jerry Liu\n",
      "Author-email: jerry@llamaindex.ai\n",
      "License: MIT\n",
      "Location: /opt/anaconda3/envs/latest_llama/lib/python3.11/site-packages\n",
      "Requires: llama-index-agent-openai, llama-index-cli, llama-index-core, llama-index-embeddings-openai, llama-index-indices-managed-llama-cloud, llama-index-legacy, llama-index-llms-openai, llama-index-multi-modal-llms-openai, llama-index-program-openai, llama-index-question-gen-openai, llama-index-readers-file, llama-index-readers-llama-parse\n",
      "Required-by: \n"
     ]
    }
   ],
   "source": [
    "!pip show llama_index"
   ]
  }
 ],
 "metadata": {
  "kernelspec": {
   "display_name": "llama-index-cumQImzL-py3.11",
   "language": "python",
   "name": "python3"
  },
  "language_info": {
   "codemirror_mode": {
    "name": "ipython",
    "version": 3
   },
   "file_extension": ".py",
   "mimetype": "text/x-python",
   "name": "python",
   "nbconvert_exporter": "python",
   "pygments_lexer": "ipython3"
  }
 },
 "nbformat": 4,
 "nbformat_minor": 2
}
